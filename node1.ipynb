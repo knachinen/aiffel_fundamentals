{
 "cells": [
  {
   "cell_type": "markdown",
   "id": "a12959a5",
   "metadata": {},
   "source": [
    "## fibonacci"
   ]
  },
  {
   "cell_type": "code",
   "execution_count": null,
   "id": "f2eaf93c",
   "metadata": {},
   "outputs": [],
   "source": [
    "def fibonacci(n):\n",
    "    if n <= 0:\n",
    "        return \"Input must be a positive integer.\"\n",
    "    elif n == 1:\n",
    "        return 0\n",
    "    elif n == 2:\n",
    "        return 1\n",
    "    else:\n",
    "        fib_sequence = [0, 1]  # Initialize the Fibonacci sequence with the first two numbers\n",
    "        for i in range(2, n):\n",
    "            next_num = fib_sequence[i-1] + fib_sequence[i-2]\n",
    "            fib_sequence.append(next_num)\n",
    "        return fib_sequence[n-1]"
   ]
  },
  {
   "cell_type": "code",
   "execution_count": 2,
   "id": "603ccd13",
   "metadata": {},
   "outputs": [],
   "source": [
    "def fibonacci(n):\n",
    "    if n <= 0:\n",
    "        return \"Input must be a positive integer.\"\n",
    "    elif n == 1:\n",
    "        return 0\n",
    "    elif n == 2:\n",
    "        return 1\n",
    "    else:\n",
    "        return fibonacci(n - 1) + fibonacci(n - 2)"
   ]
  },
  {
   "cell_type": "code",
   "execution_count": 4,
   "id": "1a6b5f1d",
   "metadata": {},
   "outputs": [
    {
     "data": {
      "text/plain": [
       "5"
      ]
     },
     "execution_count": 4,
     "metadata": {},
     "output_type": "execute_result"
    }
   ],
   "source": [
    "fibonacci(6)"
   ]
  },
  {
   "cell_type": "code",
   "execution_count": 45,
   "id": "31d9e34c",
   "metadata": {},
   "outputs": [],
   "source": [
    "def fibonacci_sequence(n):\n",
    "    if n <= 0:\n",
    "        return \"Number of terms must be a positive integer.\"\n",
    "    elif n == 1:\n",
    "        return [0]\n",
    "    elif n == 2:\n",
    "        return [0, 1]\n",
    "    else:\n",
    "        sequence = [0, 1]\n",
    "        for _ in range(2, n):\n",
    "            next_term = sequence[-1] + sequence[-2]\n",
    "            sequence.append(next_term)\n",
    "        return sequence"
   ]
  },
  {
   "cell_type": "markdown",
   "id": "7f06b799",
   "metadata": {},
   "source": [
    "### hack"
   ]
  },
  {
   "cell_type": "code",
   "execution_count": 50,
   "id": "ed62d83b",
   "metadata": {},
   "outputs": [],
   "source": [
    "def fibonacci(n):\n",
    "    print(f'got \\t {n}')\n",
    "    if n <= 0:\n",
    "        print(f'return \\t 0')\n",
    "        return 0\n",
    "    elif n == 1:\n",
    "        print(f'return \\t 1')\n",
    "        return 1\n",
    "    elif n == 2:\n",
    "        print(f'return \\t 1')\n",
    "        return 1\n",
    "    else:\n",
    "        print(f\"f_1({n-1})\")\n",
    "        f_1 = fibonacci(n - 1)\n",
    "        print(f\"f_1 \\t {f_1}\")\n",
    "        print(f\"f_2({n-2})\")\n",
    "        f_2 = fibonacci(n - 2)\n",
    "        print(f\"f_2 \\t {f_2}\")\n",
    "        f = f_1 + f_2\n",
    "        print(f'return \\t {f_1} + {f_2} = {f}')\n",
    "        return f"
   ]
  },
  {
   "cell_type": "code",
   "execution_count": 51,
   "id": "c235f151",
   "metadata": {
    "collapsed": true
   },
   "outputs": [
    {
     "name": "stdout",
     "output_type": "stream",
     "text": [
      "got \t 5\n",
      "f_1(4)\n",
      "got \t 4\n",
      "f_1(3)\n",
      "got \t 3\n",
      "f_1(2)\n",
      "got \t 2\n",
      "return \t 1\n",
      "f_1 \t 1\n",
      "f_2(1)\n",
      "got \t 1\n",
      "return \t 1\n",
      "f_2 \t 1\n",
      "return \t 1 + 1 = 2\n",
      "f_1 \t 2\n",
      "f_2(2)\n",
      "got \t 2\n",
      "return \t 1\n",
      "f_2 \t 1\n",
      "return \t 2 + 1 = 3\n",
      "f_1 \t 3\n",
      "f_2(3)\n",
      "got \t 3\n",
      "f_1(2)\n",
      "got \t 2\n",
      "return \t 1\n",
      "f_1 \t 1\n",
      "f_2(1)\n",
      "got \t 1\n",
      "return \t 1\n",
      "f_2 \t 1\n",
      "return \t 1 + 1 = 2\n",
      "f_2 \t 2\n",
      "return \t 3 + 2 = 5\n"
     ]
    },
    {
     "data": {
      "text/plain": [
       "5"
      ]
     },
     "execution_count": 51,
     "metadata": {},
     "output_type": "execute_result"
    }
   ],
   "source": [
    "fibonacci(5)"
   ]
  },
  {
   "cell_type": "markdown",
   "id": "7c318ddb",
   "metadata": {},
   "source": [
    "### memory"
   ]
  },
  {
   "cell_type": "code",
   "execution_count": 9,
   "id": "99c4b07b",
   "metadata": {
    "collapsed": true
   },
   "outputs": [
    {
     "name": "stdout",
     "output_type": "stream",
     "text": [
      "354224848179261915075\n",
      "{1: 1, 2: 1, 3: 2, 4: 3, 5: 5, 6: 8, 7: 13, 8: 21, 9: 34, 10: 55, 11: 89, 12: 144, 13: 233, 14: 377, 15: 610, 16: 987, 17: 1597, 18: 2584, 19: 4181, 20: 6765, 21: 10946, 22: 17711, 23: 28657, 24: 46368, 25: 75025, 26: 121393, 27: 196418, 28: 317811, 29: 514229, 30: 832040, 31: 1346269, 32: 2178309, 33: 3524578, 34: 5702887, 35: 9227465, 36: 14930352, 37: 24157817, 38: 39088169, 39: 63245986, 40: 102334155, 41: 165580141, 42: 267914296, 43: 433494437, 44: 701408733, 45: 1134903170, 46: 1836311903, 47: 2971215073, 48: 4807526976, 49: 7778742049, 50: 12586269025, 51: 20365011074, 52: 32951280099, 53: 53316291173, 54: 86267571272, 55: 139583862445, 56: 225851433717, 57: 365435296162, 58: 591286729879, 59: 956722026041, 60: 1548008755920, 61: 2504730781961, 62: 4052739537881, 63: 6557470319842, 64: 10610209857723, 65: 17167680177565, 66: 27777890035288, 67: 44945570212853, 68: 72723460248141, 69: 117669030460994, 70: 190392490709135, 71: 308061521170129, 72: 498454011879264, 73: 806515533049393, 74: 1304969544928657, 75: 2111485077978050, 76: 3416454622906707, 77: 5527939700884757, 78: 8944394323791464, 79: 14472334024676221, 80: 23416728348467685, 81: 37889062373143906, 82: 61305790721611591, 83: 99194853094755497, 84: 160500643816367088, 85: 259695496911122585, 86: 420196140727489673, 87: 679891637638612258, 88: 1100087778366101931, 89: 1779979416004714189, 90: 2880067194370816120, 91: 4660046610375530309, 92: 7540113804746346429, 93: 12200160415121876738, 94: 19740274219868223167, 95: 31940434634990099905, 96: 51680708854858323072, 97: 83621143489848422977, 98: 135301852344706746049, 99: 218922995834555169026, 100: 354224848179261915075}\n"
     ]
    }
   ],
   "source": [
    "memory = {1: 1, 2: 1} \n",
    "\n",
    "def fibonacci(n):\n",
    "    if n in memory:\n",
    "        number = memory[n]\n",
    "    else:\n",
    "        number = fibonacci(n-1) + fibonacci(n-2)\n",
    "        memory[n] = number\n",
    "    return number\n",
    "\n",
    "print(fibonacci(100))\n",
    "\n",
    "print(memory)"
   ]
  },
  {
   "cell_type": "code",
   "execution_count": 5,
   "id": "97188d60",
   "metadata": {},
   "outputs": [],
   "source": [
    "def zeckendorf_theorem(n):\n",
    "    fib_numbers = [0, 1]  # Fibonacci numbers up to n\n",
    "    fib_sum = [0, 1]  # Fibonacci sum sequence\n",
    "\n",
    "    # Generate Fibonacci numbers up to n\n",
    "    while fib_numbers[-1] < n:\n",
    "        next_fib = fib_numbers[-1] + fib_numbers[-2]\n",
    "        fib_numbers.append(next_fib)\n",
    "        fib_sum.append(next_fib + fib_sum[-1])\n",
    "        \n",
    "    print(fib_numbers)\n",
    "    print(fib_sum)\n",
    "\n",
    "    representation = []\n",
    "    i = len(fib_sum) - 1\n",
    "\n",
    "    # Find the Fibonacci representation of n\n",
    "    while n > 0 and i > 0:\n",
    "        if fib_sum[i] <= n:\n",
    "            representation.append(fib_numbers[i])\n",
    "            n -= fib_numbers[i]\n",
    "        i -= 1\n",
    "\n",
    "    return representation"
   ]
  },
  {
   "cell_type": "code",
   "execution_count": 34,
   "id": "3da3cce2",
   "metadata": {},
   "outputs": [],
   "source": [
    "memory = {1: 1, 2: 1} \n",
    "\n",
    "def fibonacci(n):\n",
    "    if n in memory:\n",
    "        number = memory[n]\n",
    "    else:\n",
    "        number = fibonacci(n-1) + fibonacci(n-2)\n",
    "        memory[n] = number\n",
    "        \n",
    "    return number"
   ]
  },
  {
   "cell_type": "code",
   "execution_count": 35,
   "id": "59f5256f",
   "metadata": {},
   "outputs": [],
   "source": [
    "def FibonaChicken(n):\n",
    "    \n",
    "    fibonacci(n)\n",
    "    print(f'memory:\\n{memory}')\n",
    "    \n",
    "    z = zeckendorf_theorem(n)\n",
    "    print(f'z: {z}')\n",
    "\n",
    "    result = 0\n",
    "    for i in z:\n",
    "        result += memory[i]\n",
    "\n",
    "    return result"
   ]
  },
  {
   "cell_type": "code",
   "execution_count": 36,
   "id": "97f116c4",
   "metadata": {},
   "outputs": [
    {
     "name": "stdout",
     "output_type": "stream",
     "text": [
      "memory:\n",
      "{1: 1, 2: 1, 3: 2, 4: 3, 5: 5, 6: 8, 7: 13, 8: 21}\n",
      "[0, 1, 1, 2, 3, 5, 8]\n",
      "[0, 1, 2, 4, 7, 12, 20]\n",
      "z: [3, 2, 1, 1]\n"
     ]
    },
    {
     "data": {
      "text/plain": [
       "5"
      ]
     },
     "execution_count": 36,
     "metadata": {},
     "output_type": "execute_result"
    }
   ],
   "source": [
    "FibonaChicken(8)"
   ]
  },
  {
   "cell_type": "markdown",
   "id": "82a28691",
   "metadata": {},
   "source": [
    "### generate fibonacci (f_value, f_sum)"
   ]
  },
  {
   "cell_type": "code",
   "execution_count": 9,
   "id": "9929880b",
   "metadata": {},
   "outputs": [],
   "source": [
    "f_memory = {0: (0, 0), 1: (1, 1), 2: (1, 2)}\n",
    "\n",
    "def generate_fibonacci(n):\n",
    "    \n",
    "    if n in f_memory:\n",
    "        f_set = f_memory[n]\n",
    "    else:\n",
    "        f_number = generate_fibonacci(n-1)[0] + generate_fibonacci(n-2)[0]\n",
    "        f_sum = f_memory[n-1][1] + f_number\n",
    "        f_set = (f_number, f_sum)\n",
    "        f_memory[n] = f_set\n",
    "        \n",
    "    return f_set\n"
   ]
  },
  {
   "cell_type": "code",
   "execution_count": 10,
   "id": "66ab99f2",
   "metadata": {
    "collapsed": true
   },
   "outputs": [
    {
     "name": "stdout",
     "output_type": "stream",
     "text": [
      "(43466557686937456435688527675040625802564660517371780402481729089536555417949051890403879840079255169295922593080322634775209689623239873322471161642996440906533187938298969649928516003704476137795166849228875, 113796925398360272257523782552224175572745930353730513145086634176691092536145985470146129334641866902783673042322088625863396052888690096969577173696370562180400527049497109023054114771394568040040412172632375)\n"
     ]
    }
   ],
   "source": [
    "f_set = generate_fibonacci(1000)\n",
    "print(f_set)"
   ]
  },
  {
   "cell_type": "code",
   "execution_count": 11,
   "id": "9441af52",
   "metadata": {},
   "outputs": [
    {
     "data": {
      "text/plain": [
       "(354224848179261915075, 927372692193078999175)"
      ]
     },
     "execution_count": 11,
     "metadata": {},
     "output_type": "execute_result"
    }
   ],
   "source": [
    "f_memory[100]"
   ]
  },
  {
   "cell_type": "markdown",
   "id": "621aa89a",
   "metadata": {},
   "source": [
    "### FibonaChicken with Zeckendorf with Fibonacci using Memory"
   ]
  },
  {
   "cell_type": "code",
   "execution_count": 33,
   "id": "61615602",
   "metadata": {},
   "outputs": [
    {
     "data": {
      "text/plain": [
       "1001"
      ]
     },
     "execution_count": 33,
     "metadata": {},
     "output_type": "execute_result"
    }
   ],
   "source": [
    "len(f_memory)"
   ]
  },
  {
   "cell_type": "code",
   "execution_count": 42,
   "id": "b63734e8",
   "metadata": {},
   "outputs": [
    {
     "data": {
      "text/plain": [
       "(0, 0)"
      ]
     },
     "execution_count": 42,
     "metadata": {},
     "output_type": "execute_result"
    }
   ],
   "source": [
    "f_memory[0]"
   ]
  },
  {
   "cell_type": "code",
   "execution_count": 43,
   "id": "f492c2c4",
   "metadata": {},
   "outputs": [
    {
     "name": "stdout",
     "output_type": "stream",
     "text": [
      "[(0, 0), (1, 1), (1, 2), (2, 4), (3, 7), (5, 12), (8, 20), (13, 33), (21, 54)]\n"
     ]
    }
   ],
   "source": [
    "#subset = {k: v for k, v in f_memory.items() if 1 <= k <= 8}\n",
    "f_sel = [v for k, v in f_memory.items() if 0 <= k <= 8]\n",
    "print(f_sel)"
   ]
  },
  {
   "cell_type": "code",
   "execution_count": 45,
   "id": "7f057dd3",
   "metadata": {},
   "outputs": [
    {
     "name": "stdout",
     "output_type": "stream",
     "text": [
      "[0, 1, 1, 2, 3, 5, 8, 13, 21] [0, 1, 2, 4, 7, 12, 20, 33, 54]\n"
     ]
    }
   ],
   "source": [
    "f_num = [i[0] for i in f_sel]\n",
    "f_sum = [i[1] for i in f_sel]\n",
    "print(f_num, f_sum)"
   ]
  },
  {
   "cell_type": "code",
   "execution_count": 48,
   "id": "f51b6f28",
   "metadata": {},
   "outputs": [],
   "source": [
    "def generate_zeckendorf(n):\n",
    "    \n",
    "    generate_fibonacci(n)\n",
    "    f_sel = [v for k, v in f_memory.items() if 0 <= k <= n]\n",
    "    f_num = [i[0] for i in f_sel]\n",
    "    f_sum = [i[1] for i in f_sel]\n",
    "    \n",
    "    representation = []\n",
    "    i = len(f_sum) - 1\n",
    "\n",
    "    # Find the Fibonacci representation of n\n",
    "    while n > 0 and i > 0:\n",
    "        if f_sum[i] <= n:\n",
    "            representation.append(f_num[i])\n",
    "            n -= f_num[i]\n",
    "        i -= 1\n",
    "\n",
    "    return representation"
   ]
  },
  {
   "cell_type": "code",
   "execution_count": 49,
   "id": "63fdbe55",
   "metadata": {},
   "outputs": [
    {
     "name": "stdout",
     "output_type": "stream",
     "text": [
      "[3, 2, 1, 1]\n"
     ]
    }
   ],
   "source": [
    "z_val = generate_zeckendorf(8)\n",
    "print(z_val)"
   ]
  },
  {
   "cell_type": "code",
   "execution_count": 50,
   "id": "e0975fea",
   "metadata": {},
   "outputs": [],
   "source": [
    "def FibonaChicken(n):\n",
    "        \n",
    "    z = generate_zeckendorf(n)\n",
    "\n",
    "    result = 0\n",
    "    for i in z:\n",
    "        result += f_memory[i][0]\n",
    "\n",
    "    return result"
   ]
  },
  {
   "cell_type": "code",
   "execution_count": 51,
   "id": "5cff1978",
   "metadata": {},
   "outputs": [
    {
     "data": {
      "text/plain": [
       "5"
      ]
     },
     "execution_count": 51,
     "metadata": {},
     "output_type": "execute_result"
    }
   ],
   "source": [
    "FibonaChicken(8)"
   ]
  },
  {
   "cell_type": "markdown",
   "id": "9f1eb34b",
   "metadata": {},
   "source": [
    "### references"
   ]
  },
  {
   "cell_type": "code",
   "execution_count": 93,
   "id": "f183f350",
   "metadata": {},
   "outputs": [],
   "source": [
    "f_memory = {0: (0, 0), 1: (1, 1)}\n",
    "\n",
    "def generate_fibonacci(n, fib_numbers=[0, 1], fib_sum=[0, 1]):\n",
    "    if fib_numbers[-1] >= n:\n",
    "        return fib_numbers, fib_sum\n",
    "\n",
    "    next_fib = fib_numbers[-1] + fib_numbers[-2]\n",
    "    fib_numbers.append(next_fib)\n",
    "    f_sum = next_fib + fib_sum[-1]\n",
    "    fib_sum.append(f_sum)\n",
    "    f_memory[n] = (next_fib, f_sum)\n",
    "\n",
    "    return generate_fibonacci(n, fib_numbers, fib_sum)"
   ]
  },
  {
   "cell_type": "code",
   "execution_count": 84,
   "id": "e6f13216",
   "metadata": {},
   "outputs": [],
   "source": [
    "def generate_fibonacci(n, f_mem={0: (0, 0), 1: (1, 1)}):\n",
    "    if n in f_mem:\n",
    "        return f_mem[n]\n",
    "\n",
    "    prev_n_minus_1, prev_sum_minus_1 = generate_fibonacci(n - 1, f_mem)\n",
    "    prev_n_minus_2, prev_sum_minus_2 = generate_fibonacci(n - 2, f_mem)\n",
    "\n",
    "    fib_n = prev_n_minus_1 + prev_n_minus_2\n",
    "    fib_sum_n = prev_sum_minus_1 + prev_sum_minus_2 + fib_n\n",
    "\n",
    "    f_mem[n] = (fib_n, fib_sum_n)\n",
    "\n",
    "    return fib_n, fib_sum_n"
   ]
  },
  {
   "cell_type": "code",
   "execution_count": 82,
   "id": "d8b6c517",
   "metadata": {},
   "outputs": [],
   "source": [
    "def generate_zeckendorf(n):\n",
    "    \n",
    "    f_nums, f_sum = generate_fibonacci(n)\n",
    "    \n",
    "    representation = []\n",
    "    i = len(f_sum) - 1\n",
    "\n",
    "    # Find the Fibonacci representation of n\n",
    "    while n > 0 and i > 0:\n",
    "        if f_sum[i] <= n:\n",
    "            representation.append(f_nums[i])\n",
    "            n -= f_nums[i]\n",
    "        i -= 1\n",
    "\n",
    "    return representation"
   ]
  },
  {
   "cell_type": "markdown",
   "id": "e8ba5af0",
   "metadata": {},
   "source": [
    "## printing stars"
   ]
  },
  {
   "cell_type": "code",
   "execution_count": 2,
   "id": "9df16b6e",
   "metadata": {},
   "outputs": [
    {
     "name": "stdout",
     "output_type": "stream",
     "text": [
      "*\n",
      "**\n",
      "***\n",
      "****\n",
      "*****\n",
      "******\n",
      "*******\n",
      "********\n",
      "*********\n"
     ]
    }
   ],
   "source": [
    "for i in range(1, 10):\n",
    "    for j in range(i):\n",
    "        print('*', end='')\n",
    "    print()"
   ]
  },
  {
   "cell_type": "markdown",
   "id": "f8f94e3d",
   "metadata": {},
   "source": [
    "## List Comprehension"
   ]
  },
  {
   "cell_type": "code",
   "execution_count": 3,
   "id": "17c0e693",
   "metadata": {},
   "outputs": [
    {
     "name": "stdout",
     "output_type": "stream",
     "text": [
      "[1, 3, 5, 7, 9, 11, 13, 15, 17, 19, 21, 23, 25, 27, 29, 31, 33, 35, 37, 39, 41, 43, 45, 47, 49, 51, 53, 55, 57, 59, 61, 63, 65, 67, 69, 71, 73, 75, 77, 79, 81, 83, 85, 87, 89, 91, 93, 95, 97, 99]\n"
     ]
    }
   ],
   "source": [
    "# Q. 리스트 컴프리헨션을 활용해서 자연수 1부터 100까지 중 홀수를 출력하세요.\n",
    "odd = [x for x in range(100) if x % 2 != 0]\n",
    "print(odd)"
   ]
  },
  {
   "cell_type": "markdown",
   "id": "3985e038",
   "metadata": {},
   "source": [
    "## Generator"
   ]
  },
  {
   "cell_type": "code",
   "execution_count": 4,
   "id": "312967bb",
   "metadata": {},
   "outputs": [
    {
     "name": "stdout",
     "output_type": "stream",
     "text": [
      ">>  8 data loaded..\n",
      "0 a\n",
      "0 b\n",
      "0 c\n",
      "0 d\n",
      "1 a\n",
      "1 b\n",
      "1 c\n",
      "1 d\n",
      "메모리사용량 : 136\n"
     ]
    }
   ],
   "source": [
    "import sys\n",
    "\n",
    "my_list = ['a','b','c','d']\n",
    "\n",
    "# 인자로 받은 리스트를 가공해서 만든 데이터셋 리스트를 리턴하는 함수\n",
    "def get_dataset_list(my_list):\n",
    "    result_list = []\n",
    "    for i in range(2):\n",
    "        for j in my_list:\n",
    "            result_list.append((i, j))\n",
    "    print('>>  {} data loaded..'.format(len(result_list)))\n",
    "    return result_list\n",
    "\n",
    "for X, y in get_dataset_list(my_list):\n",
    "    print(X, y)\n",
    "print(f'메모리사용량 : {sys.getsizeof(get_dataset_list)}') # sys.getsizeof(메모리 사용량 확인하는 메소드)"
   ]
  },
  {
   "cell_type": "code",
   "execution_count": 5,
   "id": "78652376",
   "metadata": {},
   "outputs": [
    {
     "name": "stdout",
     "output_type": "stream",
     "text": [
      "0 a\n",
      ">>  1 data loaded..\n",
      "0 b\n",
      ">>  1 data loaded..\n",
      "0 c\n",
      ">>  1 data loaded..\n",
      "0 d\n",
      ">>  1 data loaded..\n",
      "1 a\n",
      ">>  1 data loaded..\n",
      "1 b\n",
      ">>  1 data loaded..\n",
      "1 c\n",
      ">>  1 data loaded..\n",
      "1 d\n",
      ">>  1 data loaded..\n",
      "메모리 사용량 : 112\n"
     ]
    }
   ],
   "source": [
    "my_list = ['a','b','c','d']\n",
    "\n",
    "# 인자로 받은 리스트로부터 데이터를 하나씩 가져오는 제너레이터를 리턴하는 함수\n",
    "def get_dataset_generator(my_list):\n",
    "    for i in range(2):\n",
    "        for j in my_list:\n",
    "            yield (i, j)   # 이 줄이 이전의 append 코드를 대체했습니다\n",
    "            print('>>  1 data loaded..')\n",
    "\n",
    "dataset_generator = get_dataset_generator(my_list)\n",
    "for X, y in dataset_generator:\n",
    "    print(X, y)\n",
    "\n",
    "print(f'메모리 사용량 : {sys.getsizeof(dataset_generator)}')"
   ]
  },
  {
   "cell_type": "markdown",
   "id": "f51b8936",
   "metadata": {},
   "source": [
    "## Exception"
   ]
  },
  {
   "cell_type": "code",
   "execution_count": 6,
   "id": "80ed3aa3",
   "metadata": {},
   "outputs": [
    {
     "name": "stdout",
     "output_type": "stream",
     "text": [
      "에러가 발생했습니다.\n",
      "값 수정 :  10.0\n"
     ]
    }
   ],
   "source": [
    "a = 10\n",
    "b = 0 \n",
    "\n",
    "try:\n",
    "    #실행 코드\n",
    "    print(a/b)\n",
    "\t\t\n",
    "except:\n",
    "    print('에러가 발생했습니다.')\n",
    "    #에러가 발생했을 때 처리하는 코드\n",
    "    b = b+1\n",
    "    print(\"값 수정 : \", a/b)"
   ]
  },
  {
   "cell_type": "markdown",
   "id": "7e028582",
   "metadata": {},
   "source": [
    "## Multiprocessing"
   ]
  },
  {
   "cell_type": "code",
   "execution_count": null,
   "id": "9e94d9ff",
   "metadata": {},
   "outputs": [],
   "source": [
    "import multiprocessing\n",
    "import time\n",
    "\n",
    "num_list = ['p1','p2', 'p3', 'p4']\n",
    "start = time.time()\n",
    "\n",
    "def count(name):\n",
    "    time.sleep(5)\n",
    "    print(\"finish:\"+name+\"\\n\")\n",
    "    \n",
    "\n",
    "if __name__ == '__main__':\n",
    "    pool = multiprocessing.Pool(processes = 2)\n",
    "    pool.map(count, num_list)\n",
    "    pool.close()\n",
    "    pool.join()\n",
    "\n",
    "print(\"time :\", time.time() - start)"
   ]
  },
  {
   "cell_type": "markdown",
   "id": "9c091be8",
   "metadata": {},
   "source": [
    "## Min, Max"
   ]
  },
  {
   "cell_type": "code",
   "execution_count": null,
   "id": "782fae0c",
   "metadata": {},
   "outputs": [],
   "source": [
    "list_data = [10, 20, 30, 40]\n",
    "list_data2 = [20, 30, 40, 50]\n",
    "\n",
    "length = len(list_data)\n",
    "max_result = list_data[0]\n",
    "for i in range(length):\n",
    "    if max_result < list_data[i]:\n",
    "        max_result = list_data[i]\n",
    "        \n",
    "print(\"최댓값은 \", max_result)\n",
    "\n",
    "length = len(list_data2)\n",
    "max_result = list_data2[0]\n",
    "for i in range(length):\n",
    "    if max_result < list_data2[i]:\n",
    "        max_result = list_data2[i]\n",
    "        \n",
    "print(\"최댓값은 \", max_result)"
   ]
  },
  {
   "cell_type": "code",
   "execution_count": 7,
   "id": "463dba76",
   "metadata": {},
   "outputs": [
    {
     "name": "stdout",
     "output_type": "stream",
     "text": [
      "최댓값은  40\n",
      "최댓값은  50\n"
     ]
    }
   ],
   "source": [
    "list_data = [10, 20, 30, 40]\n",
    "list_data2 = [20, 30, 40, 50]\n",
    "\n",
    "def max_function(x):\n",
    "    length = len(x)\n",
    "    max_result = x[0]\n",
    "    for i in range(length):\n",
    "        if max_result < x[i]:\n",
    "            max_result = x[i]\n",
    "    return max_result\n",
    "\n",
    "print(\"최댓값은 \", max_function(list_data))\n",
    "print(\"최댓값은 \", max_function(list_data2))"
   ]
  },
  {
   "cell_type": "code",
   "execution_count": null,
   "id": "697c20e8",
   "metadata": {},
   "outputs": [],
   "source": [
    "def say_something(txt):\n",
    "    return txt\n",
    "\n",
    "def send(function, count):\n",
    "    for i in range(count):  \n",
    "        print(function)\n",
    "    \n",
    "send(say_something(\"안녕!\"), 2)"
   ]
  },
  {
   "cell_type": "code",
   "execution_count": 8,
   "id": "efb9d434",
   "metadata": {},
   "outputs": [
    {
     "name": "stdout",
     "output_type": "stream",
     "text": [
      "최솟값, 최댓값은 :  [20, 40]\n",
      "최솟값은 :  20\n",
      "최댓값은 :  40\n"
     ]
    }
   ],
   "source": [
    "list_data = [30, 20, 30, 40]\n",
    "\n",
    "def minmax_function(x_list):\n",
    "        \n",
    "    def inner_min_function(x):\n",
    "        length = len(x)\n",
    "        min_result = x[0]\n",
    "        for i in range(length):\n",
    "            if min_result > x[i]:\n",
    "                min_result = x[i]\n",
    "        return min_result\n",
    "    \n",
    "    def inner_max_function(x):\n",
    "        length = len(x)\n",
    "        max_result = x[0]\n",
    "        for i in range(length):\n",
    "            if max_result < x[i]:\n",
    "                max_result = x[i]\n",
    "        return max_result\n",
    "        \n",
    "    x_min = inner_min_function(x_list)\n",
    "    x_max = inner_max_function(x_list)\n",
    "    \n",
    "    minmax_list = [x_min, x_max]\n",
    "\n",
    "    return minmax_list\n",
    "\n",
    "print(\"최솟값, 최댓값은 : \", minmax_function(list_data))\n",
    "print(\"최솟값은 : \", minmax_function(list_data)[0])\n",
    "print(\"최댓값은 : \", minmax_function(list_data)[1])"
   ]
  },
  {
   "cell_type": "code",
   "execution_count": 11,
   "id": "2f5b8223",
   "metadata": {},
   "outputs": [
    {
     "name": "stdout",
     "output_type": "stream",
     "text": [
      "[1, 3, 5, 7, 9]\n"
     ]
    }
   ],
   "source": [
    "# Q. filter()와 lambda를 활용해서 다음 nums 변수에 담겨있는 숫자 중 홀수만 출력해보세요.\n",
    "nums = [1, 2, 3, 4, 5, 6, 7, 8, 9, 10]\n",
    "# [[YOUR CODE]]\n",
    "result = list(filter(lambda x: x % 2 != 0, nums))\n",
    "print(result)"
   ]
  }
 ],
 "metadata": {
  "kernelspec": {
   "display_name": "Python 3 (ipykernel)",
   "language": "python",
   "name": "python3"
  },
  "language_info": {
   "codemirror_mode": {
    "name": "ipython",
    "version": 3
   },
   "file_extension": ".py",
   "mimetype": "text/x-python",
   "name": "python",
   "nbconvert_exporter": "python",
   "pygments_lexer": "ipython3",
   "version": "3.8.16"
  }
 },
 "nbformat": 4,
 "nbformat_minor": 5
}
